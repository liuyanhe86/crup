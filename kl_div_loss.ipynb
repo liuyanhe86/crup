{
 "cells": [
  {
   "cell_type": "code",
   "execution_count": 80,
   "metadata": {},
   "outputs": [
    {
     "name": "stdout",
     "output_type": "stream",
     "text": [
      "p|q\n",
      "a: tensor(-2.0379)\n",
      "b: tensor(28.0128)\n",
      "c: tensor(18.5910)\n",
      "tensor(20.2830)\n",
      "q|p\n",
      "a: tensor(2.0379)\n",
      "b: tensor(4.5777)\n",
      "c: tensor(9.1522)\n",
      "tensor(5.8839)\n",
      "p|p\n",
      "a: tensor(0.)\n",
      "b: tensor(4.)\n",
      "c: tensor(0.)\n",
      "tensor(0.)\n"
     ]
    }
   ],
   "source": [
    "import torch\n",
    "import torch.nn.functional as F\n",
    "import numpy as np\n",
    "from scipy.linalg import logm\n",
    "\n",
    "\n",
    "def kl_single_pair(p, q):\n",
    "    a = torch.log(torch.linalg.det(q[1])/torch.linalg.det(p[1]))\n",
    "    print('a:', a)\n",
    "    b = torch.trace(torch.linalg.inv(q[1]) * p[1])\n",
    "    print('b:', b)\n",
    "    c = torch.sum((p[0] - q[0]) * torch.linalg.inv(q[1]) * (p[0] - q[0]))\n",
    "    print('c:', c)\n",
    "    n = p[1].shape[0]\n",
    "    return 0.5 * (a - n + b + c)\n",
    "\n",
    "\n",
    "p = (mu1, Sigma1) = torch.tensor([0.2, 0.1, 0.5, 0.4]), torch.diag(torch.tensor([0.14, 0.52, 0.2, 0.4]))\n",
    "q = (mu2, Sigma2) = torch.tensor([0.3, 0.6, -0.5, -0.8]), torch.diag(torch.tensor([0.24, 0.02, 0.31, 0.51]))\n",
    "print('p|q')\n",
    "print(kl_single_pair(p, q))  # 20.28295597572157\n",
    "print('q|p')\n",
    "print(kl_single_pair(q, p))  # 5.883921991346153\n",
    "print('p|p')\n",
    "print(kl_single_pair(p, p))  # 0.0\n"
   ]
  },
  {
   "cell_type": "code",
   "execution_count": 83,
   "metadata": {},
   "outputs": [
    {
     "name": "stdout",
     "output_type": "stream",
     "text": [
      "torch.Size([2, 4])\n",
      "tensor([[ 0.0000, 20.2830],\n",
      "        [ 5.8839,  0.0000]])\n"
     ]
    }
   ],
   "source": [
    "def multivar_continue_KL_divergence(mu:torch.Tensor, sigma:torch.Tensor):\n",
    "    n_tokens, embed_dim = mu.shape[0], mu.shape[1]\n",
    "    mu1_mu2_diff_mat =  mu.unsqueeze(1) -  mu.unsqueeze(0).repeat(n_tokens, 1, 1)  # [n_tokens, n_tokens, embed_dim]\n",
    "    sigma = sigma.unsqueeze(1) * torch.eye(embed_dim)  # [n_tokens, embed_dim ,embed_dim]\n",
    "    sigma_log_det = torch.linalg.det(sigma)\n",
    "    sigma_log_det_ratio = torch.log((1 / sigma_log_det).unsqueeze(1) * sigma_log_det)\n",
    "    sigma_inverse = torch.linalg.inv(sigma)  # [n_tokens, embed_dim ,embed_dim]\n",
    "    sigma_mut_trace = torch.sum(sigma.unsqueeze(1) * sigma_inverse, dim=(-1,-2))\n",
    "    return 0.5 * (sigma_log_det_ratio - embed_dim + sigma_mut_trace + torch.sum(mu1_mu2_diff_mat.unsqueeze(-1) * sigma_inverse * mu1_mu2_diff_mat.unsqueeze(-1), dim=(-1,-2)))\n",
    "    # a = torch.log(torch.linalg.det(q[1])/torch.linalg.det(p[1]))\n",
    "    # print('a:', a)\n",
    "    # b = torch.trace(torch.linalg.inv(q[1]) * p[1])\n",
    "    # print('b:', b)\n",
    "    # c = torch.sum((p[0] - q[0]) * torch.linalg.inv(q[1]) * (p[0] - q[0]))\n",
    "    # print('c:', c)\n",
    "    # n = p[1].shape[0]\n",
    "    # print(n)\n",
    "    # return 0.5 * (a - n + b + c)\n",
    "\n",
    "\n",
    "# p = (mu1, Sigma1) = torch.tensor([0.2, 0.1, 0.5, 0.4]), torch.diag(torch.tensor([0.14, 0.52, 0.2, 0.4]))\n",
    "# q = (mu2, Sigma2) = torch.tensor([0.3, 0.6, -0.5, -0.8]), torch.diag(torch.tensor([0.24, 0.02, 0.31, 0.51]))\n",
    "\n",
    "mu = torch.tensor(\n",
    "    [\n",
    "        [0.2, 0.1, 0.5, 0.4],\n",
    "        [0.3, 0.6, -0.5, -0.8]\n",
    "    ]\n",
    ")\n",
    "\n",
    "sigma = torch.tensor(\n",
    "    [\n",
    "        [0.14, 0.52, 0.2, 0.4],\n",
    "        [0.24, 0.02, 0.31, 0.51]\n",
    "    ]\n",
    ")\n",
    "print(mu.shape)\n",
    "\n",
    "print(multivar_continue_KL_divergence(mu, sigma))  # 20.28295597572157\n",
    "# print(multivar_continue_KL_divergence(q, p))  # 5.883921991346153\n",
    "# print(multivar_continue_KL_divergence(p, p))  # 0.0\n",
    "torch.set_printoptions(profile='full')"
   ]
  }
 ],
 "metadata": {
  "kernelspec": {
   "display_name": "Python 3.8.13 ('py38')",
   "language": "python",
   "name": "python3"
  },
  "language_info": {
   "codemirror_mode": {
    "name": "ipython",
    "version": 3
   },
   "file_extension": ".py",
   "mimetype": "text/x-python",
   "name": "python",
   "nbconvert_exporter": "python",
   "pygments_lexer": "ipython3",
   "version": "3.8.13"
  },
  "orig_nbformat": 4,
  "vscode": {
   "interpreter": {
    "hash": "3f8f18320cc0d9e782967693d965b6f1abb68e26a34d146b737af38164bc8375"
   }
  }
 },
 "nbformat": 4,
 "nbformat_minor": 2
}
